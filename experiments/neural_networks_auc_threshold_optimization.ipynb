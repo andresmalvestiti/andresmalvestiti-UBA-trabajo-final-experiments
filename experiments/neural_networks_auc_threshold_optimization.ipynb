{
 "cells": [
  {
   "cell_type": "code",
   "execution_count": 1,
   "metadata": {},
   "outputs": [
    {
     "name": "stdout",
     "output_type": "stream",
     "text": [
      "env: AWS_ACCESS_KEY_ID=minio\n",
      "env: AWS_SECRET_ACCESS_KEY=minio123\n",
      "env: MLFLOW_S3_ENDPOINT_URL=http://localhost:9000\n",
      "env: AWS_ENDPOINT_URL_S3=http://localhost:9000\n"
     ]
    }
   ],
   "source": [
    "# Para que funcione, todos nuestros scripts debemos exportar las siguientes variables de entorno\n",
    "%env AWS_ACCESS_KEY_ID=minio   \n",
    "%env AWS_SECRET_ACCESS_KEY=minio123 \n",
    "%env MLFLOW_S3_ENDPOINT_URL=http://localhost:9000\n",
    "%env AWS_ENDPOINT_URL_S3=http://localhost:9000"
   ]
  },
  {
   "cell_type": "code",
   "execution_count": 2,
   "metadata": {},
   "outputs": [
    {
     "name": "stdout",
     "output_type": "stream",
     "text": [
      "$AWS_ACCESS_KEY_ID\n",
      "$AWS_SECRET_ACCESS_KEY\n",
      "$MLFLOW_S3_ENDPOINT_URL\n"
     ]
    }
   ],
   "source": [
    "!echo $AWS_ACCESS_KEY_ID\n",
    "!echo $AWS_SECRET_ACCESS_KEY\n",
    "!echo $MLFLOW_S3_ENDPOINT_URL"
   ]
  },
  {
   "cell_type": "code",
   "execution_count": 3,
   "metadata": {},
   "outputs": [
    {
     "name": "stderr",
     "output_type": "stream",
     "text": [
      "c:\\Users\\andre\\workspace\\andresmalvestiti-UBA-trabajo-final-experiments\\venv\\Lib\\site-packages\\tqdm\\auto.py:21: TqdmWarning: IProgress not found. Please update jupyter and ipywidgets. See https://ipywidgets.readthedocs.io/en/stable/user_install.html\n",
      "  from .autonotebook import tqdm as notebook_tqdm\n"
     ]
    },
    {
     "data": {
      "text/plain": [
       "<Experiment: artifact_location='s3://mlflow/24', creation_time=1741460965362, experiment_id='24', last_update_time=1741460965362, lifecycle_stage='active', name='Neural Networks AUC Threshold Optimization', tags={}>"
      ]
     },
     "execution_count": 3,
     "metadata": {},
     "output_type": "execute_result"
    }
   ],
   "source": [
    "# ========================== BLOQUE 1 ==========================\n",
    "# 📌 CARGA DE DATOS Y BÚSQUEDA DE HIPERPARÁMETROS CON OPTUNA USANDO AUC\n",
    "import os\n",
    "import awswrangler as wr\n",
    "import boto3\n",
    "from botocore.exceptions import ClientError\n",
    "import pandas as pd\n",
    "import optuna\n",
    "import mlflow\n",
    "import mlflow.sklearn\n",
    "from sklearn.metrics import auc, roc_auc_score, roc_curve\n",
    "import numpy as np\n",
    "import matplotlib.pyplot as plt\n",
    "\n",
    "# 🚀 Cargar los datos desde AWS S3\n",
    "X_train = wr.s3.read_csv(\"s3://data/final/train/neural_network/X_train_scaled-no_selection.csv\")\n",
    "y_train = wr.s3.read_csv(\"s3://data/final/train/neural_network/y_train.csv\")\n",
    "X_val = wr.s3.read_csv(\"s3://data/final/val/neural_network/X_val_scaled.csv-no_selection\")\n",
    "y_val = wr.s3.read_csv(\"s3://data/final/val/neural_network/y_val.csv\")\n",
    "X_test = wr.s3.read_csv(\"s3://data/final/test/neural_network/X_test_scaled-no_selection.csv\")\n",
    "y_test = wr.s3.read_csv(\"s3://data/final/test/neural_network/y_test.csv\")\n",
    "\n",
    "experiment_name = \"Neural Networks AUC Threshold Optimization\"\n",
    "experiment_path = experiment_name.lower().replace(' ', '_')\n",
    "\n",
    "# 🔹 Configurar MLflow\n",
    "mlflow.set_tracking_uri('http://localhost:5000')\n",
    "mlflow.set_experiment(experiment_name)"
   ]
  },
  {
   "cell_type": "code",
   "execution_count": 4,
   "metadata": {},
   "outputs": [
    {
     "name": "stderr",
     "output_type": "stream",
     "text": [
      "[I 2025-03-10 22:58:44,332] A new study created in memory with name: no-name-59aee888-02fc-4fba-b243-01976188031e\n"
     ]
    },
    {
     "name": "stdout",
     "output_type": "stream",
     "text": [
      "4/4 [==============================] - 0s 3ms/step\n"
     ]
    },
    {
     "name": "stderr",
     "output_type": "stream",
     "text": [
      "2025/03/10 22:58:51 WARNING mlflow.tensorflow: You are saving a TensorFlow Core model or Keras model without a signature. Inference with mlflow.pyfunc.spark_udf() will not work unless the model's pyfunc representation accepts pandas DataFrames as inference inputs.\n",
      "WARNING:absl:Found untraced functions such as _update_step_xla while saving (showing 1 of 1). These functions will not be directly callable after loading.\n"
     ]
    },
    {
     "name": "stdout",
     "output_type": "stream",
     "text": [
      "INFO:tensorflow:Assets written to: C:\\Users\\andre\\AppData\\Local\\Temp\\tmpavitk_sx\\model\\data\\model\\assets\n"
     ]
    },
    {
     "name": "stderr",
     "output_type": "stream",
     "text": [
      "INFO:tensorflow:Assets written to: C:\\Users\\andre\\AppData\\Local\\Temp\\tmpavitk_sx\\model\\data\\model\\assets\n",
      "2025/03/10 22:59:07 WARNING mlflow.models.model: Model logged without a signature and input example. Please set `input_example` parameter when logging the model to auto infer the model signature.\n",
      "2025/03/10 22:59:07 INFO mlflow.tracking._tracking_service.client: 🏃 View run ambitious-rook-184 at: http://localhost:5000/#/experiments/24/runs/47845a4cffef40f598915db0bb426d5b.\n",
      "2025/03/10 22:59:07 INFO mlflow.tracking._tracking_service.client: 🧪 View experiment at: http://localhost:5000/#/experiments/24.\n",
      "[I 2025-03-10 22:59:07,774] Trial 0 finished with value: 0.6 and parameters: {'neurons': 48, 'dropout': 0.3684185157439498, 'learning_rate': 0.0035762910932102695}. Best is trial 0 with value: 0.6.\n"
     ]
    },
    {
     "name": "stdout",
     "output_type": "stream",
     "text": [
      "4/4 [==============================] - 0s 2ms/step\n"
     ]
    },
    {
     "name": "stderr",
     "output_type": "stream",
     "text": [
      "2025/03/10 22:59:13 INFO mlflow.tracking._tracking_service.client: 🏃 View run abundant-seal-18 at: http://localhost:5000/#/experiments/24/runs/ac173649f7fe4698b0ae32e10f7a9989.\n",
      "2025/03/10 22:59:13 INFO mlflow.tracking._tracking_service.client: 🧪 View experiment at: http://localhost:5000/#/experiments/24.\n",
      "[I 2025-03-10 22:59:13,331] Trial 1 finished with value: 0.5454545454545454 and parameters: {'neurons': 112, 'dropout': 0.4331842976821634, 'learning_rate': 0.0006110230781119733}. Best is trial 0 with value: 0.6.\n"
     ]
    },
    {
     "name": "stdout",
     "output_type": "stream",
     "text": [
      "4/4 [==============================] - 0s 1ms/step\n"
     ]
    },
    {
     "name": "stderr",
     "output_type": "stream",
     "text": [
      "2025/03/10 22:59:19 INFO mlflow.tracking._tracking_service.client: 🏃 View run efficient-frog-838 at: http://localhost:5000/#/experiments/24/runs/6a159f20be054f3bbfe2180e82e34df8.\n",
      "2025/03/10 22:59:19 INFO mlflow.tracking._tracking_service.client: 🧪 View experiment at: http://localhost:5000/#/experiments/24.\n",
      "[I 2025-03-10 22:59:19,343] Trial 2 finished with value: 0.3333333333333333 and parameters: {'neurons': 64, 'dropout': 0.3768701517806195, 'learning_rate': 0.0001357229327826296}. Best is trial 0 with value: 0.6.\n"
     ]
    },
    {
     "name": "stdout",
     "output_type": "stream",
     "text": [
      "4/4 [==============================] - 0s 2ms/step\n"
     ]
    },
    {
     "name": "stderr",
     "output_type": "stream",
     "text": [
      "2025/03/10 22:59:25 INFO mlflow.tracking._tracking_service.client: 🏃 View run unequaled-loon-96 at: http://localhost:5000/#/experiments/24/runs/ac4663c9448942e397c150b1e2316d68.\n",
      "2025/03/10 22:59:25 INFO mlflow.tracking._tracking_service.client: 🧪 View experiment at: http://localhost:5000/#/experiments/24.\n",
      "[I 2025-03-10 22:59:25,118] Trial 3 finished with value: 0.32 and parameters: {'neurons': 32, 'dropout': 0.4508909085428472, 'learning_rate': 0.00022028365834809475}. Best is trial 0 with value: 0.6.\n"
     ]
    },
    {
     "name": "stdout",
     "output_type": "stream",
     "text": [
      "4/4 [==============================] - 0s 1ms/step\n"
     ]
    },
    {
     "name": "stderr",
     "output_type": "stream",
     "text": [
      "2025/03/10 22:59:29 WARNING mlflow.tensorflow: You are saving a TensorFlow Core model or Keras model without a signature. Inference with mlflow.pyfunc.spark_udf() will not work unless the model's pyfunc representation accepts pandas DataFrames as inference inputs.\n",
      "WARNING:absl:Found untraced functions such as _update_step_xla while saving (showing 1 of 1). These functions will not be directly callable after loading.\n"
     ]
    },
    {
     "name": "stdout",
     "output_type": "stream",
     "text": [
      "INFO:tensorflow:Assets written to: C:\\Users\\andre\\AppData\\Local\\Temp\\tmpoh8s0mjp\\model\\data\\model\\assets\n"
     ]
    },
    {
     "name": "stderr",
     "output_type": "stream",
     "text": [
      "INFO:tensorflow:Assets written to: C:\\Users\\andre\\AppData\\Local\\Temp\\tmpoh8s0mjp\\model\\data\\model\\assets\n",
      "2025/03/10 22:59:39 WARNING mlflow.models.model: Model logged without a signature and input example. Please set `input_example` parameter when logging the model to auto infer the model signature.\n",
      "2025/03/10 22:59:39 INFO mlflow.tracking._tracking_service.client: 🏃 View run abrasive-ram-252 at: http://localhost:5000/#/experiments/24/runs/9203e79e022848d5bdec78e75f3eaf27.\n",
      "2025/03/10 22:59:39 INFO mlflow.tracking._tracking_service.client: 🧪 View experiment at: http://localhost:5000/#/experiments/24.\n",
      "[I 2025-03-10 22:59:40,016] Trial 4 finished with value: 0.7058823529411765 and parameters: {'neurons': 48, 'dropout': 0.4644445719380228, 'learning_rate': 0.0016159206458833167}. Best is trial 4 with value: 0.7058823529411765.\n"
     ]
    },
    {
     "name": "stdout",
     "output_type": "stream",
     "text": [
      "4/4 [==============================] - 0s 2ms/step\n"
     ]
    },
    {
     "name": "stderr",
     "output_type": "stream",
     "text": [
      "2025/03/10 22:59:45 WARNING mlflow.tensorflow: You are saving a TensorFlow Core model or Keras model without a signature. Inference with mlflow.pyfunc.spark_udf() will not work unless the model's pyfunc representation accepts pandas DataFrames as inference inputs.\n",
      "WARNING:absl:Found untraced functions such as _update_step_xla while saving (showing 1 of 1). These functions will not be directly callable after loading.\n"
     ]
    },
    {
     "name": "stdout",
     "output_type": "stream",
     "text": [
      "INFO:tensorflow:Assets written to: C:\\Users\\andre\\AppData\\Local\\Temp\\tmpmdpoggj0\\model\\data\\model\\assets\n"
     ]
    },
    {
     "name": "stderr",
     "output_type": "stream",
     "text": [
      "INFO:tensorflow:Assets written to: C:\\Users\\andre\\AppData\\Local\\Temp\\tmpmdpoggj0\\model\\data\\model\\assets\n",
      "2025/03/10 22:59:57 WARNING mlflow.models.model: Model logged without a signature and input example. Please set `input_example` parameter when logging the model to auto infer the model signature.\n",
      "2025/03/10 22:59:57 INFO mlflow.tracking._tracking_service.client: 🏃 View run suave-perch-684 at: http://localhost:5000/#/experiments/24/runs/9431cd4cc9e94ac1900382d185e031d4.\n",
      "2025/03/10 22:59:57 INFO mlflow.tracking._tracking_service.client: 🧪 View experiment at: http://localhost:5000/#/experiments/24.\n",
      "[I 2025-03-10 22:59:57,582] Trial 5 finished with value: 0.7142857142857143 and parameters: {'neurons': 32, 'dropout': 0.3813058657850961, 'learning_rate': 0.003562380964624481}. Best is trial 5 with value: 0.7142857142857143.\n"
     ]
    },
    {
     "name": "stdout",
     "output_type": "stream",
     "text": [
      "4/4 [==============================] - 0s 3ms/step\n"
     ]
    },
    {
     "name": "stderr",
     "output_type": "stream",
     "text": [
      "2025/03/10 23:00:06 INFO mlflow.tracking._tracking_service.client: 🏃 View run shivering-skunk-804 at: http://localhost:5000/#/experiments/24/runs/80668a37a5a9491198a1b2897e6dc159.\n",
      "2025/03/10 23:00:06 INFO mlflow.tracking._tracking_service.client: 🧪 View experiment at: http://localhost:5000/#/experiments/24.\n",
      "[I 2025-03-10 23:00:06,504] Trial 6 finished with value: 0.5 and parameters: {'neurons': 80, 'dropout': 0.3303175538817886, 'learning_rate': 0.00017081709247449364}. Best is trial 5 with value: 0.7142857142857143.\n"
     ]
    },
    {
     "name": "stdout",
     "output_type": "stream",
     "text": [
      "4/4 [==============================] - 0s 2ms/step\n"
     ]
    },
    {
     "name": "stderr",
     "output_type": "stream",
     "text": [
      "2025/03/10 23:00:12 INFO mlflow.tracking._tracking_service.client: 🏃 View run adaptable-fish-28 at: http://localhost:5000/#/experiments/24/runs/b4b3bb1a44514f0eb2f78624480efd38.\n",
      "2025/03/10 23:00:12 INFO mlflow.tracking._tracking_service.client: 🧪 View experiment at: http://localhost:5000/#/experiments/24.\n",
      "[I 2025-03-10 23:00:12,517] Trial 7 finished with value: 0.6 and parameters: {'neurons': 112, 'dropout': 0.35430395534960135, 'learning_rate': 0.00042998585597385345}. Best is trial 5 with value: 0.7142857142857143.\n"
     ]
    },
    {
     "name": "stdout",
     "output_type": "stream",
     "text": [
      "4/4 [==============================] - 0s 2ms/step\n"
     ]
    },
    {
     "name": "stderr",
     "output_type": "stream",
     "text": [
      "2025/03/10 23:00:16 INFO mlflow.tracking._tracking_service.client: 🏃 View run unique-sloth-182 at: http://localhost:5000/#/experiments/24/runs/63d27def0c4a4f12a216c56eb305f7cc.\n",
      "2025/03/10 23:00:16 INFO mlflow.tracking._tracking_service.client: 🧪 View experiment at: http://localhost:5000/#/experiments/24.\n",
      "[I 2025-03-10 23:00:16,808] Trial 8 finished with value: 0.6363636363636364 and parameters: {'neurons': 96, 'dropout': 0.3445693188482395, 'learning_rate': 0.007299034413029866}. Best is trial 5 with value: 0.7142857142857143.\n"
     ]
    },
    {
     "name": "stdout",
     "output_type": "stream",
     "text": [
      "4/4 [==============================] - 0s 1ms/step\n"
     ]
    },
    {
     "name": "stderr",
     "output_type": "stream",
     "text": [
      "2025/03/10 23:00:22 INFO mlflow.tracking._tracking_service.client: 🏃 View run dashing-pug-451 at: http://localhost:5000/#/experiments/24/runs/135e610013364f62bae17fd3e49281ea.\n",
      "2025/03/10 23:00:22 INFO mlflow.tracking._tracking_service.client: 🧪 View experiment at: http://localhost:5000/#/experiments/24.\n",
      "[I 2025-03-10 23:00:22,635] Trial 9 finished with value: 0.5 and parameters: {'neurons': 80, 'dropout': 0.33251672852078745, 'learning_rate': 0.0005741141958790351}. Best is trial 5 with value: 0.7142857142857143.\n"
     ]
    },
    {
     "name": "stdout",
     "output_type": "stream",
     "text": [
      "4/4 [==============================] - 0s 2ms/step\n"
     ]
    },
    {
     "name": "stderr",
     "output_type": "stream",
     "text": [
      "2025/03/10 23:00:28 INFO mlflow.tracking._tracking_service.client: 🏃 View run monumental-doe-951 at: http://localhost:5000/#/experiments/24/runs/42988376416d4cd4bd93055904ac22d4.\n",
      "2025/03/10 23:00:28 INFO mlflow.tracking._tracking_service.client: 🧪 View experiment at: http://localhost:5000/#/experiments/24.\n",
      "[I 2025-03-10 23:00:28,217] Trial 10 finished with value: 0.6666666666666666 and parameters: {'neurons': 16, 'dropout': 0.417779794706071, 'learning_rate': 0.0018467089424576719}. Best is trial 5 with value: 0.7142857142857143.\n"
     ]
    },
    {
     "name": "stdout",
     "output_type": "stream",
     "text": [
      "4/4 [==============================] - 0s 2ms/step\n"
     ]
    },
    {
     "name": "stderr",
     "output_type": "stream",
     "text": [
      "2025/03/10 23:00:34 WARNING mlflow.tensorflow: You are saving a TensorFlow Core model or Keras model without a signature. Inference with mlflow.pyfunc.spark_udf() will not work unless the model's pyfunc representation accepts pandas DataFrames as inference inputs.\n",
      "WARNING:absl:Found untraced functions such as _update_step_xla while saving (showing 1 of 1). These functions will not be directly callable after loading.\n"
     ]
    },
    {
     "name": "stdout",
     "output_type": "stream",
     "text": [
      "INFO:tensorflow:Assets written to: C:\\Users\\andre\\AppData\\Local\\Temp\\tmpxdm9b4wd\\model\\data\\model\\assets\n"
     ]
    },
    {
     "name": "stderr",
     "output_type": "stream",
     "text": [
      "INFO:tensorflow:Assets written to: C:\\Users\\andre\\AppData\\Local\\Temp\\tmpxdm9b4wd\\model\\data\\model\\assets\n",
      "2025/03/10 23:00:46 WARNING mlflow.models.model: Model logged without a signature and input example. Please set `input_example` parameter when logging the model to auto infer the model signature.\n",
      "2025/03/10 23:00:46 INFO mlflow.tracking._tracking_service.client: 🏃 View run defiant-cod-962 at: http://localhost:5000/#/experiments/24/runs/9da93968fa3c4881b65cb8d566367137.\n",
      "2025/03/10 23:00:46 INFO mlflow.tracking._tracking_service.client: 🧪 View experiment at: http://localhost:5000/#/experiments/24.\n",
      "[I 2025-03-10 23:00:46,868] Trial 11 finished with value: 0.7368421052631579 and parameters: {'neurons': 48, 'dropout': 0.4855668078651976, 'learning_rate': 0.0018387104496022458}. Best is trial 11 with value: 0.7368421052631579.\n"
     ]
    },
    {
     "name": "stdout",
     "output_type": "stream",
     "text": [
      "4/4 [==============================] - 0s 0s/step\n"
     ]
    },
    {
     "name": "stderr",
     "output_type": "stream",
     "text": [
      "2025/03/10 23:00:52 INFO mlflow.tracking._tracking_service.client: 🏃 View run magnificent-calf-969 at: http://localhost:5000/#/experiments/24/runs/aa9f71741c8c4810b042120ef3ef1f71.\n",
      "2025/03/10 23:00:52 INFO mlflow.tracking._tracking_service.client: 🧪 View experiment at: http://localhost:5000/#/experiments/24.\n",
      "[I 2025-03-10 23:00:52,347] Trial 12 finished with value: 0.7058823529411765 and parameters: {'neurons': 16, 'dropout': 0.49899631012393647, 'learning_rate': 0.00987213119206551}. Best is trial 11 with value: 0.7368421052631579.\n"
     ]
    },
    {
     "name": "stdout",
     "output_type": "stream",
     "text": [
      "4/4 [==============================] - 0s 3ms/step\n"
     ]
    },
    {
     "name": "stderr",
     "output_type": "stream",
     "text": [
      "2025/03/10 23:00:57 INFO mlflow.tracking._tracking_service.client: 🏃 View run adorable-toad-459 at: http://localhost:5000/#/experiments/24/runs/9b59e6a5c19b4bfc9794487181942983.\n",
      "2025/03/10 23:00:57 INFO mlflow.tracking._tracking_service.client: 🧪 View experiment at: http://localhost:5000/#/experiments/24.\n",
      "[I 2025-03-10 23:00:57,032] Trial 13 finished with value: 0.5882352941176471 and parameters: {'neurons': 48, 'dropout': 0.39278078094358165, 'learning_rate': 0.00304030652272785}. Best is trial 11 with value: 0.7368421052631579.\n"
     ]
    },
    {
     "name": "stdout",
     "output_type": "stream",
     "text": [
      "4/4 [==============================] - 0s 2ms/step\n"
     ]
    },
    {
     "name": "stderr",
     "output_type": "stream",
     "text": [
      "2025/03/10 23:01:01 WARNING mlflow.tensorflow: You are saving a TensorFlow Core model or Keras model without a signature. Inference with mlflow.pyfunc.spark_udf() will not work unless the model's pyfunc representation accepts pandas DataFrames as inference inputs.\n",
      "WARNING:absl:Found untraced functions such as _update_step_xla while saving (showing 1 of 1). These functions will not be directly callable after loading.\n"
     ]
    },
    {
     "name": "stdout",
     "output_type": "stream",
     "text": [
      "INFO:tensorflow:Assets written to: C:\\Users\\andre\\AppData\\Local\\Temp\\tmpxiacoel6\\model\\data\\model\\assets\n"
     ]
    },
    {
     "name": "stderr",
     "output_type": "stream",
     "text": [
      "INFO:tensorflow:Assets written to: C:\\Users\\andre\\AppData\\Local\\Temp\\tmpxiacoel6\\model\\data\\model\\assets\n",
      "2025/03/10 23:01:13 WARNING mlflow.models.model: Model logged without a signature and input example. Please set `input_example` parameter when logging the model to auto infer the model signature.\n",
      "2025/03/10 23:01:13 INFO mlflow.tracking._tracking_service.client: 🏃 View run agreeable-cub-724 at: http://localhost:5000/#/experiments/24/runs/8b6b2ef5a7264e08b59cae170531d228.\n",
      "2025/03/10 23:01:13 INFO mlflow.tracking._tracking_service.client: 🧪 View experiment at: http://localhost:5000/#/experiments/24.\n",
      "[I 2025-03-10 23:01:13,678] Trial 14 finished with value: 0.8 and parameters: {'neurons': 32, 'dropout': 0.3041263383625683, 'learning_rate': 0.004639209609677968}. Best is trial 14 with value: 0.8.\n"
     ]
    },
    {
     "name": "stdout",
     "output_type": "stream",
     "text": [
      "4/4 [==============================] - 0s 0s/step\n"
     ]
    },
    {
     "name": "stderr",
     "output_type": "stream",
     "text": [
      "2025/03/10 23:01:18 INFO mlflow.tracking._tracking_service.client: 🏃 View run lyrical-cub-246 at: http://localhost:5000/#/experiments/24/runs/9915f4fe34294484a40df3977d5b42b4.\n",
      "2025/03/10 23:01:18 INFO mlflow.tracking._tracking_service.client: 🧪 View experiment at: http://localhost:5000/#/experiments/24.\n",
      "[I 2025-03-10 23:01:18,240] Trial 15 finished with value: 0.7142857142857143 and parameters: {'neurons': 64, 'dropout': 0.30416326016347084, 'learning_rate': 0.0014103419277203346}. Best is trial 14 with value: 0.8.\n"
     ]
    },
    {
     "name": "stdout",
     "output_type": "stream",
     "text": [
      "4/4 [==============================] - 0s 2ms/step\n"
     ]
    },
    {
     "name": "stderr",
     "output_type": "stream",
     "text": [
      "2025/03/10 23:01:22 INFO mlflow.tracking._tracking_service.client: 🏃 View run powerful-ray-876 at: http://localhost:5000/#/experiments/24/runs/3d0c8b6c914d4c29a4439e51bea95f2e.\n",
      "2025/03/10 23:01:22 INFO mlflow.tracking._tracking_service.client: 🧪 View experiment at: http://localhost:5000/#/experiments/24.\n",
      "[I 2025-03-10 23:01:22,650] Trial 16 finished with value: 0.75 and parameters: {'neurons': 32, 'dropout': 0.47188587632622697, 'learning_rate': 0.005342738962426722}. Best is trial 14 with value: 0.8.\n"
     ]
    },
    {
     "name": "stdout",
     "output_type": "stream",
     "text": [
      "4/4 [==============================] - 0s 2ms/step\n"
     ]
    },
    {
     "name": "stderr",
     "output_type": "stream",
     "text": [
      "2025/03/10 23:01:27 INFO mlflow.tracking._tracking_service.client: 🏃 View run rambunctious-cod-930 at: http://localhost:5000/#/experiments/24/runs/23be045416c04be685fd95f790e6163d.\n",
      "2025/03/10 23:01:27 INFO mlflow.tracking._tracking_service.client: 🧪 View experiment at: http://localhost:5000/#/experiments/24.\n",
      "[I 2025-03-10 23:01:27,032] Trial 17 finished with value: 0.6363636363636364 and parameters: {'neurons': 32, 'dropout': 0.41352549673968636, 'learning_rate': 0.006927007191522225}. Best is trial 14 with value: 0.8.\n"
     ]
    },
    {
     "name": "stdout",
     "output_type": "stream",
     "text": [
      "4/4 [==============================] - 0s 2ms/step\n"
     ]
    },
    {
     "name": "stderr",
     "output_type": "stream",
     "text": [
      "2025/03/10 23:01:31 INFO mlflow.tracking._tracking_service.client: 🏃 View run vaunted-conch-539 at: http://localhost:5000/#/experiments/24/runs/735c5b36bf1249719259540d82f51485.\n",
      "2025/03/10 23:01:31 INFO mlflow.tracking._tracking_service.client: 🧪 View experiment at: http://localhost:5000/#/experiments/24.\n",
      "[I 2025-03-10 23:01:31,281] Trial 18 finished with value: 0.7058823529411765 and parameters: {'neurons': 16, 'dropout': 0.3019029688700984, 'learning_rate': 0.005259620351177381}. Best is trial 14 with value: 0.8.\n"
     ]
    },
    {
     "name": "stdout",
     "output_type": "stream",
     "text": [
      "4/4 [==============================] - 0s 2ms/step\n"
     ]
    },
    {
     "name": "stderr",
     "output_type": "stream",
     "text": [
      "2025/03/10 23:01:37 WARNING mlflow.tensorflow: You are saving a TensorFlow Core model or Keras model without a signature. Inference with mlflow.pyfunc.spark_udf() will not work unless the model's pyfunc representation accepts pandas DataFrames as inference inputs.\n",
      "WARNING:absl:Found untraced functions such as _update_step_xla while saving (showing 1 of 1). These functions will not be directly callable after loading.\n"
     ]
    },
    {
     "name": "stdout",
     "output_type": "stream",
     "text": [
      "INFO:tensorflow:Assets written to: C:\\Users\\andre\\AppData\\Local\\Temp\\tmpg5men_c5\\model\\data\\model\\assets\n"
     ]
    },
    {
     "name": "stderr",
     "output_type": "stream",
     "text": [
      "INFO:tensorflow:Assets written to: C:\\Users\\andre\\AppData\\Local\\Temp\\tmpg5men_c5\\model\\data\\model\\assets\n",
      "2025/03/10 23:01:49 WARNING mlflow.models.model: Model logged without a signature and input example. Please set `input_example` parameter when logging the model to auto infer the model signature.\n",
      "2025/03/10 23:01:50 INFO mlflow.tracking._tracking_service.client: 🏃 View run persistent-shoat-830 at: http://localhost:5000/#/experiments/24/runs/6f19e63006d745d3bb505aa36d940076.\n",
      "2025/03/10 23:01:50 INFO mlflow.tracking._tracking_service.client: 🧪 View experiment at: http://localhost:5000/#/experiments/24.\n",
      "[I 2025-03-10 23:01:50,337] Trial 19 finished with value: 0.8421052631578947 and parameters: {'neurons': 32, 'dropout': 0.46885158060014914, 'learning_rate': 0.0009812373943232893}. Best is trial 19 with value: 0.8421052631578947.\n"
     ]
    },
    {
     "name": "stdout",
     "output_type": "stream",
     "text": [
      "4/4 [==============================] - 0s 3ms/step\n"
     ]
    },
    {
     "name": "stderr",
     "output_type": "stream",
     "text": [
      "2025/03/10 23:01:56 INFO mlflow.tracking._tracking_service.client: 🏃 View run ambitious-shrimp-451 at: http://localhost:5000/#/experiments/24/runs/a319cb0814b843debfb835a685550789.\n",
      "2025/03/10 23:01:56 INFO mlflow.tracking._tracking_service.client: 🧪 View experiment at: http://localhost:5000/#/experiments/24.\n",
      "[I 2025-03-10 23:01:56,081] Trial 20 finished with value: 0.5714285714285714 and parameters: {'neurons': 128, 'dropout': 0.4422741981469593, 'learning_rate': 0.0008117278079121232}. Best is trial 19 with value: 0.8421052631578947.\n"
     ]
    },
    {
     "name": "stdout",
     "output_type": "stream",
     "text": [
      "4/4 [==============================] - 0s 1ms/step\n"
     ]
    },
    {
     "name": "stderr",
     "output_type": "stream",
     "text": [
      "2025/03/10 23:02:01 INFO mlflow.tracking._tracking_service.client: 🏃 View run brawny-ox-893 at: http://localhost:5000/#/experiments/24/runs/cc8719af24474f51a072aeaf44be3b9e.\n",
      "2025/03/10 23:02:01 INFO mlflow.tracking._tracking_service.client: 🧪 View experiment at: http://localhost:5000/#/experiments/24.\n",
      "[I 2025-03-10 23:02:01,416] Trial 21 finished with value: 0.6363636363636364 and parameters: {'neurons': 32, 'dropout': 0.4708850165398407, 'learning_rate': 0.0011047818442478099}. Best is trial 19 with value: 0.8421052631578947.\n"
     ]
    },
    {
     "name": "stdout",
     "output_type": "stream",
     "text": [
      "4/4 [==============================] - 0s 1ms/step\n"
     ]
    },
    {
     "name": "stderr",
     "output_type": "stream",
     "text": [
      "2025/03/10 23:02:06 INFO mlflow.tracking._tracking_service.client: 🏃 View run wise-zebra-832 at: http://localhost:5000/#/experiments/24/runs/75f2b45579bd4353a1ad96125533bbd6.\n",
      "2025/03/10 23:02:06 INFO mlflow.tracking._tracking_service.client: 🧪 View experiment at: http://localhost:5000/#/experiments/24.\n",
      "[I 2025-03-10 23:02:06,053] Trial 22 finished with value: 0.6666666666666666 and parameters: {'neurons': 16, 'dropout': 0.465454579886911, 'learning_rate': 0.002836245152312234}. Best is trial 19 with value: 0.8421052631578947.\n"
     ]
    },
    {
     "name": "stdout",
     "output_type": "stream",
     "text": [
      "4/4 [==============================] - 0s 2ms/step\n"
     ]
    },
    {
     "name": "stderr",
     "output_type": "stream",
     "text": [
      "2025/03/10 23:02:09 WARNING mlflow.tensorflow: You are saving a TensorFlow Core model or Keras model without a signature. Inference with mlflow.pyfunc.spark_udf() will not work unless the model's pyfunc representation accepts pandas DataFrames as inference inputs.\n",
      "WARNING:absl:Found untraced functions such as _update_step_xla while saving (showing 1 of 1). These functions will not be directly callable after loading.\n"
     ]
    },
    {
     "name": "stdout",
     "output_type": "stream",
     "text": [
      "INFO:tensorflow:Assets written to: C:\\Users\\andre\\AppData\\Local\\Temp\\tmpebzcejlr\\model\\data\\model\\assets\n"
     ]
    },
    {
     "name": "stderr",
     "output_type": "stream",
     "text": [
      "INFO:tensorflow:Assets written to: C:\\Users\\andre\\AppData\\Local\\Temp\\tmpebzcejlr\\model\\data\\model\\assets\n",
      "2025/03/10 23:02:18 WARNING mlflow.models.model: Model logged without a signature and input example. Please set `input_example` parameter when logging the model to auto infer the model signature.\n",
      "2025/03/10 23:02:19 INFO mlflow.tracking._tracking_service.client: 🏃 View run mysterious-finch-357 at: http://localhost:5000/#/experiments/24/runs/f5379207ecab47d1950c678261275c5a.\n",
      "2025/03/10 23:02:19 INFO mlflow.tracking._tracking_service.client: 🧪 View experiment at: http://localhost:5000/#/experiments/24.\n",
      "[I 2025-03-10 23:02:19,080] Trial 23 finished with value: 0.8571428571428571 and parameters: {'neurons': 32, 'dropout': 0.4997170302750371, 'learning_rate': 0.004917972151263397}. Best is trial 23 with value: 0.8571428571428571.\n"
     ]
    },
    {
     "name": "stdout",
     "output_type": "stream",
     "text": [
      "4/4 [==============================] - 0s 2ms/step\n"
     ]
    },
    {
     "name": "stderr",
     "output_type": "stream",
     "text": [
      "2025/03/10 23:02:25 INFO mlflow.tracking._tracking_service.client: 🏃 View run casual-bee-823 at: http://localhost:5000/#/experiments/24/runs/6f52b13cadfc457f98d92e24a325331b.\n",
      "2025/03/10 23:02:25 INFO mlflow.tracking._tracking_service.client: 🧪 View experiment at: http://localhost:5000/#/experiments/24.\n",
      "[I 2025-03-10 23:02:25,710] Trial 24 finished with value: 0.625 and parameters: {'neurons': 64, 'dropout': 0.48981343291940854, 'learning_rate': 0.000348591595499512}. Best is trial 23 with value: 0.8571428571428571.\n"
     ]
    },
    {
     "name": "stdout",
     "output_type": "stream",
     "text": [
      "4/4 [==============================] - 0s 2ms/step\n"
     ]
    },
    {
     "name": "stderr",
     "output_type": "stream",
     "text": [
      "2025/03/10 23:02:30 INFO mlflow.tracking._tracking_service.client: 🏃 View run likeable-trout-738 at: http://localhost:5000/#/experiments/24/runs/61815a381a4545f7bab4527597692c2c.\n",
      "2025/03/10 23:02:30 INFO mlflow.tracking._tracking_service.client: 🧪 View experiment at: http://localhost:5000/#/experiments/24.\n",
      "[I 2025-03-10 23:02:30,491] Trial 25 finished with value: 0.7777777777777778 and parameters: {'neurons': 48, 'dropout': 0.41377008253469943, 'learning_rate': 0.0024671681964022097}. Best is trial 23 with value: 0.8571428571428571.\n"
     ]
    },
    {
     "name": "stdout",
     "output_type": "stream",
     "text": [
      "4/4 [==============================] - 0s 3ms/step\n"
     ]
    },
    {
     "name": "stderr",
     "output_type": "stream",
     "text": [
      "2025/03/10 23:02:36 INFO mlflow.tracking._tracking_service.client: 🏃 View run peaceful-eel-486 at: http://localhost:5000/#/experiments/24/runs/c6cbf94f28e7418e8333a789b58b7244.\n",
      "2025/03/10 23:02:36 INFO mlflow.tracking._tracking_service.client: 🧪 View experiment at: http://localhost:5000/#/experiments/24.\n",
      "[I 2025-03-10 23:02:36,402] Trial 26 finished with value: 0.5454545454545454 and parameters: {'neurons': 32, 'dropout': 0.483867424953214, 'learning_rate': 0.0009587586224129689}. Best is trial 23 with value: 0.8571428571428571.\n"
     ]
    },
    {
     "name": "stdout",
     "output_type": "stream",
     "text": [
      "4/4 [==============================] - 0s 670us/step\n"
     ]
    },
    {
     "name": "stderr",
     "output_type": "stream",
     "text": [
      "2025/03/10 23:02:41 INFO mlflow.tracking._tracking_service.client: 🏃 View run gregarious-squid-344 at: http://localhost:5000/#/experiments/24/runs/be16e25a384f4ea7a1c261e2a850a8ea.\n",
      "2025/03/10 23:02:41 INFO mlflow.tracking._tracking_service.client: 🧪 View experiment at: http://localhost:5000/#/experiments/24.\n",
      "[I 2025-03-10 23:02:41,469] Trial 27 finished with value: 0.6956521739130435 and parameters: {'neurons': 16, 'dropout': 0.49960264621149697, 'learning_rate': 0.00514620582215204}. Best is trial 23 with value: 0.8571428571428571.\n"
     ]
    },
    {
     "name": "stdout",
     "output_type": "stream",
     "text": [
      "4/4 [==============================] - 0s 5ms/step\n"
     ]
    },
    {
     "name": "stderr",
     "output_type": "stream",
     "text": [
      "2025/03/10 23:02:44 INFO mlflow.tracking._tracking_service.client: 🏃 View run invincible-bird-553 at: http://localhost:5000/#/experiments/24/runs/d5e0050140fe4cf6a28b4a5be368f6e3.\n",
      "2025/03/10 23:02:44 INFO mlflow.tracking._tracking_service.client: 🧪 View experiment at: http://localhost:5000/#/experiments/24.\n",
      "[I 2025-03-10 23:02:44,979] Trial 28 finished with value: 0.7777777777777778 and parameters: {'neurons': 64, 'dropout': 0.45075613080273713, 'learning_rate': 0.00945851372708138}. Best is trial 23 with value: 0.8571428571428571.\n"
     ]
    },
    {
     "name": "stdout",
     "output_type": "stream",
     "text": [
      "4/4 [==============================] - 0s 2ms/step\n"
     ]
    },
    {
     "name": "stderr",
     "output_type": "stream",
     "text": [
      "2025/03/10 23:02:51 INFO mlflow.tracking._tracking_service.client: 🏃 View run upset-elk-378 at: http://localhost:5000/#/experiments/24/runs/f8e03382dd01474ea904df27db73ecc0.\n",
      "2025/03/10 23:02:51 INFO mlflow.tracking._tracking_service.client: 🧪 View experiment at: http://localhost:5000/#/experiments/24.\n",
      "[I 2025-03-10 23:02:51,185] Trial 29 finished with value: 0.7272727272727273 and parameters: {'neurons': 48, 'dropout': 0.42968337839924053, 'learning_rate': 0.00411110755484538}. Best is trial 23 with value: 0.8571428571428571.\n"
     ]
    },
    {
     "name": "stdout",
     "output_type": "stream",
     "text": [
      "4/4 [==============================] - 0s 1ms/step\n"
     ]
    },
    {
     "name": "stderr",
     "output_type": "stream",
     "text": [
      "2025/03/10 23:02:51 INFO mlflow.tracking._tracking_service.client: 🏃 View run amazing-bass-952 at: http://localhost:5000/#/experiments/24/runs/bd509c51b8cd40cab57121aef23bcefb.\n",
      "2025/03/10 23:02:51 INFO mlflow.tracking._tracking_service.client: 🧪 View experiment at: http://localhost:5000/#/experiments/24.\n",
      "2025/03/10 23:02:52 WARNING mlflow.tensorflow: You are saving a TensorFlow Core model or Keras model without a signature. Inference with mlflow.pyfunc.spark_udf() will not work unless the model's pyfunc representation accepts pandas DataFrames as inference inputs.\n",
      "WARNING:absl:Found untraced functions such as _update_step_xla while saving (showing 1 of 1). These functions will not be directly callable after loading.\n"
     ]
    },
    {
     "name": "stdout",
     "output_type": "stream",
     "text": [
      "INFO:tensorflow:Assets written to: C:\\Users\\andre\\AppData\\Local\\Temp\\tmp_erhwxei\\model\\data\\model\\assets\n"
     ]
    },
    {
     "name": "stderr",
     "output_type": "stream",
     "text": [
      "INFO:tensorflow:Assets written to: C:\\Users\\andre\\AppData\\Local\\Temp\\tmp_erhwxei\\model\\data\\model\\assets\n",
      "2025/03/10 23:03:02 WARNING mlflow.models.model: Model logged without a signature and input example. Please set `input_example` parameter when logging the model to auto infer the model signature.\n",
      "2025/03/10 23:03:03 INFO mlflow.tracking._tracking_service.client: 🏃 View run Top_1_Model at: http://localhost:5000/#/experiments/24/runs/3e3faa7c1b184bc1bbc822190d4f5512.\n",
      "2025/03/10 23:03:03 INFO mlflow.tracking._tracking_service.client: 🧪 View experiment at: http://localhost:5000/#/experiments/24.\n"
     ]
    },
    {
     "name": "stdout",
     "output_type": "stream",
     "text": [
      "\n",
      "✅ Optimización completada. El mejor modelo se ha guardado y registrado en MLflow como Top_1_Model.\n"
     ]
    }
   ],
   "source": [
    "import optuna\n",
    "import tensorflow as tf\n",
    "import mlflow\n",
    "import mlflow.tensorflow\n",
    "import numpy as np\n",
    "import matplotlib.pyplot as plt\n",
    "from tensorflow.keras.models import Sequential\n",
    "from tensorflow.keras.layers import Dense, Dropout, BatchNormalization\n",
    "from tensorflow.keras.optimizers import Adam\n",
    "from tensorflow.keras.regularizers import l2\n",
    "from sklearn.metrics import roc_auc_score, roc_curve, f1_score, confusion_matrix\n",
    "from tensorflow.keras.callbacks import EarlyStopping\n",
    "\n",
    "# Convertir DataFrames a arrays de NumPy y aplanar las series de etiquetas (si es necesario)\n",
    "X_train = X_train.to_numpy()\n",
    "y_train = y_train.to_numpy().ravel()\n",
    "X_val   = X_val.to_numpy()\n",
    "y_val   = y_val.to_numpy().ravel()\n",
    "X_test  = X_test.to_numpy()\n",
    "y_test  = y_test.to_numpy().ravel()\n",
    "\n",
    "# 📌 Variable global para almacenar el mejor modelo\n",
    "best_model = None\n",
    "best_f1_score = 0  # Variable para rastrear el mejor F1-score\n",
    "\n",
    "# 📌 Función para optimizar el threshold basado en F1-score\n",
    "def optimize_threshold(y_true, y_pred_proba):\n",
    "    fpr, tpr, thresholds = roc_curve(y_true, y_pred_proba)\n",
    "    f1_scores = [f1_score(y_true, (y_pred_proba >= t).astype(int), average=\"binary\") for t in thresholds]\n",
    "    return thresholds[np.argmax(f1_scores)]\n",
    "\n",
    "# 📌 Función de objetivo para Optuna\n",
    "def objective(trial):\n",
    "    global best_model, best_f1_score\n",
    "\n",
    "    # 🔹 Ajuste de hiperparámetros para evitar sobreajuste en un dataset pequeño\n",
    "    neurons = trial.suggest_int(\"neurons\", 16, 128, step=16)\n",
    "    dropout_rate = trial.suggest_float(\"dropout\", 0.3, 0.5)\n",
    "    learning_rate = trial.suggest_float(\"learning_rate\", 0.0001, 0.01, log=True)\n",
    "    \n",
    "    # Regularización L2 para ayudar a prevenir el sobreajuste\n",
    "    regularization = 0.001\n",
    "\n",
    "    input_shape = (X_train.shape[1],)\n",
    "\n",
    "    # 🔹 Crear modelo de red neuronal con menor complejidad y regularización\n",
    "    model = Sequential([\n",
    "        Dense(neurons, activation='relu', input_shape=input_shape, kernel_regularizer=l2(regularization)),\n",
    "        BatchNormalization(),\n",
    "        Dropout(dropout_rate),\n",
    "        \n",
    "        Dense(neurons // 2, activation='relu', kernel_regularizer=l2(regularization)),\n",
    "        Dropout(dropout_rate),\n",
    "        \n",
    "        Dense(1, activation='sigmoid')\n",
    "    ])\n",
    "\n",
    "    model.compile(optimizer=Adam(learning_rate=learning_rate),\n",
    "                  loss='binary_crossentropy',\n",
    "                  metrics=['AUC'])\n",
    "\n",
    "    # 🔹 Early stopping con menos epochs para evitar sobreajuste\n",
    "    early_stopping = EarlyStopping(monitor='val_loss', patience=5, restore_best_weights=True)\n",
    "\n",
    "    # 🔹 Entrenar modelo con menos epochs\n",
    "    history = model.fit(X_train, y_train,\n",
    "                        validation_data=(X_val, y_val),\n",
    "                        epochs=30,\n",
    "                        batch_size=32,\n",
    "                        callbacks=[early_stopping],\n",
    "                        verbose=0)\n",
    "\n",
    "    # 🔹 Obtener predicciones en validación\n",
    "    y_pred_proba = model.predict(X_val).flatten()\n",
    "\n",
    "    # 🔹 Calcular métricas básicas\n",
    "    auc_score = roc_auc_score(y_val, y_pred_proba)\n",
    "    optimal_threshold = optimize_threshold(y_val, y_pred_proba)\n",
    "    y_pred = (y_pred_proba >= optimal_threshold).astype(int)\n",
    "    f1 = f1_score(y_val, y_pred, average=\"binary\")\n",
    "\n",
    "    # 🔹 Calcular métricas adicionales a partir de la matriz de confusión\n",
    "    cm = confusion_matrix(y_val, y_pred)\n",
    "    tn, fp, fn, tp = cm.ravel()\n",
    "    sensitivity = tp / (tp + fn) if (tp + fn) > 0 else 0\n",
    "    specificity = tn / (tn + fp) if (tn + fp) > 0 else 0\n",
    "    precision = tp / (tp + fp) if (tp + fp) > 0 else 0\n",
    "    recall = sensitivity  # Sensibilidad es igual a recall\n",
    "\n",
    "    # 🔹 Graficar la curva ROC\n",
    "    fpr, tpr, _ = roc_curve(y_val, y_pred_proba)\n",
    "    plt.figure()\n",
    "    plt.plot(fpr, tpr, label=f'ROC curve (AUC = {auc_score:.2f})')\n",
    "    plt.plot([0, 1], [0, 1], 'k--')\n",
    "    plt.xlabel('False Positive Rate')\n",
    "    plt.ylabel('True Positive Rate')\n",
    "    plt.title('ROC Curve')\n",
    "    plt.legend(loc='lower right')\n",
    "    roc_fig = plt.gcf()\n",
    "    mlflow.log_figure(roc_fig, \"roc_curve.png\")\n",
    "    plt.close()\n",
    "\n",
    "    # 🔹 Graficar la matriz de confusión\n",
    "    fig, ax = plt.subplots()\n",
    "    cax = ax.matshow(cm, cmap=plt.cm.Blues)\n",
    "    fig.colorbar(cax)\n",
    "    for (i, j), z in np.ndenumerate(cm):\n",
    "        ax.text(j, i, str(z), ha='center', va='center')\n",
    "    plt.xlabel('Predicted')\n",
    "    plt.ylabel('Actual')\n",
    "    plt.title('Confusion Matrix')\n",
    "    mlflow.log_figure(fig, \"confusion_matrix.png\")\n",
    "    plt.close(fig)\n",
    "\n",
    "    # 🔹 Registrar parámetros y métricas en MLflow en un run anidado\n",
    "    with mlflow.start_run(nested=True):\n",
    "        mlflow.log_param(\"neurons\", neurons)\n",
    "        mlflow.log_param(\"dropout\", dropout_rate)\n",
    "        mlflow.log_param(\"learning_rate\", learning_rate)\n",
    "        mlflow.log_metric(\"AUC\", auc_score)\n",
    "        mlflow.log_metric(\"F1_score\", f1)\n",
    "        mlflow.log_metric(\"Optimal_Threshold\", optimal_threshold)\n",
    "        mlflow.log_metric(\"Sensitivity\", sensitivity)\n",
    "        mlflow.log_metric(\"Specificity\", specificity)\n",
    "        mlflow.log_metric(\"Precision\", precision)\n",
    "        mlflow.log_metric(\"Recall\", recall)\n",
    "        # Guardar modelo si es el mejor hasta ahora (basado en validación)\n",
    "        if f1 > best_f1_score:\n",
    "            best_f1_score = f1\n",
    "            best_model = model\n",
    "            model.save(\"best_neural_network.h5\")\n",
    "            mlflow.tensorflow.log_model(model, \"model\")\n",
    "    return f1\n",
    "\n",
    "# 🚀 Ejecutar optimización con Optuna\n",
    "study = optuna.create_study(direction=\"maximize\")\n",
    "study.optimize(objective, n_trials=30)\n",
    "\n",
    "# 🔹 Cargar el mejor modelo guardado\n",
    "best_model = tf.keras.models.load_model(\"best_neural_network.h5\")\n",
    "\n",
    "# 🔹 Calcular métricas del mejor modelo en el set de prueba\n",
    "y_pred_proba_test = best_model.predict(X_test).flatten()\n",
    "auc_score_test = roc_auc_score(y_test, y_pred_proba_test)\n",
    "optimal_threshold_test = optimize_threshold(y_test, y_pred_proba_test)\n",
    "y_pred_test = (y_pred_proba_test >= optimal_threshold_test).astype(int)\n",
    "f1_test = f1_score(y_test, y_pred_test, average=\"binary\")\n",
    "cm_test = confusion_matrix(y_test, y_pred_test)\n",
    "tn, fp, fn, tp = cm_test.ravel()\n",
    "sensitivity_test = tp / (tp + fn) if (tp + fn) > 0 else 0\n",
    "specificity_test = tn / (tn + fp) if (tn + fp) > 0 else 0\n",
    "precision_test = tp / (tp + fp) if (tp + fp) > 0 else 0\n",
    "recall_test = sensitivity_test  # Sensibilidad es igual a recall\n",
    "\n",
    "# 🔹 Graficar la curva ROC del mejor modelo en test\n",
    "fpr_test, tpr_test, _ = roc_curve(y_test, y_pred_proba_test)\n",
    "plt.figure()\n",
    "plt.plot(fpr_test, tpr_test, label=f'ROC curve (AUC = {auc_score_test:.2f})')\n",
    "plt.plot([0, 1], [0, 1], 'k--')\n",
    "plt.xlabel('False Positive Rate')\n",
    "plt.ylabel('True Positive Rate')\n",
    "plt.title('ROC Curve - Top Model')\n",
    "plt.legend(loc='lower right')\n",
    "roc_fig_test = plt.gcf()\n",
    "plt.close()\n",
    "\n",
    "# 🔹 Graficar la matriz de confusión del mejor modelo en test\n",
    "fig, ax = plt.subplots()\n",
    "cax = ax.matshow(cm_test, cmap=plt.cm.Blues)\n",
    "fig.colorbar(cax)\n",
    "for (i, j), z in np.ndenumerate(cm_test):\n",
    "    ax.text(j, i, str(z), ha='center', va='center')\n",
    "plt.xlabel('Predicted')\n",
    "plt.ylabel('Actual')\n",
    "plt.title('Confusion Matrix - Top Model')\n",
    "cm_fig_test = fig\n",
    "plt.close(fig)\n",
    "\n",
    "# Finalizar cualquier run activo antes de iniciar el run del top 1\n",
    "if mlflow.active_run() is not None:\n",
    "    mlflow.end_run()\n",
    "\n",
    "# 🔹 Registrar en MLflow el top 1 (mejor modelo) con un identificador especial\n",
    "with mlflow.start_run(run_name=\"Top_1_Model\"):\n",
    "    mlflow.log_param(\"neurons\", study.best_trial.params[\"neurons\"])\n",
    "    mlflow.log_param(\"dropout\", study.best_trial.params[\"dropout\"])\n",
    "    mlflow.log_param(\"learning_rate\", study.best_trial.params[\"learning_rate\"])\n",
    "    mlflow.log_metric(\"AUC\", auc_score_test)\n",
    "    mlflow.log_metric(\"F1_score\", f1_test)\n",
    "    mlflow.log_metric(\"Optimal_Threshold\", optimal_threshold_test)\n",
    "    mlflow.log_metric(\"Sensitivity\", sensitivity_test)\n",
    "    mlflow.log_metric(\"Specificity\", specificity_test)\n",
    "    mlflow.log_metric(\"Precision\", precision_test)\n",
    "    mlflow.log_metric(\"Recall\", recall_test)\n",
    "    mlflow.log_figure(roc_fig_test, \"roc_curve_top_model.png\")\n",
    "    mlflow.log_figure(cm_fig_test, \"confusion_matrix_top_model.png\")\n",
    "    mlflow.tensorflow.log_model(best_model, \"model_top1\")\n",
    "\n",
    "print(\"\\n✅ Optimización completada. El mejor modelo se ha guardado y registrado en MLflow como Top_1_Model.\")\n"
   ]
  }
 ],
 "metadata": {
  "kernelspec": {
   "display_name": "venv",
   "language": "python",
   "name": "python3"
  },
  "language_info": {
   "codemirror_mode": {
    "name": "ipython",
    "version": 3
   },
   "file_extension": ".py",
   "mimetype": "text/x-python",
   "name": "python",
   "nbconvert_exporter": "python",
   "pygments_lexer": "ipython3",
   "version": "3.11.5"
  }
 },
 "nbformat": 4,
 "nbformat_minor": 2
}
